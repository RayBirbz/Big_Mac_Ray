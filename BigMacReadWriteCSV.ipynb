{
 "cells": [
  {
   "attachments": {},
   "cell_type": "markdown",
   "metadata": {},
   "source": [
    "# Big Mac CSV Activities\n",
    "I have provided you with a very small amount of the original big mac data dataset in a .csv file. Use it to complete all the activities in this notebook."
   ]
  },
  {
   "cell_type": "code",
   "execution_count": 4,
   "metadata": {},
   "outputs": [
    {
     "name": "stdout",
     "output_type": "stream",
     "text": [
      "         Country   Local   AUD       Date\n",
      "0      Australia    7.45  7.45  1/07/2023\n",
      "1        Britain    4.19  8.05  1/07/2023\n",
      "2          Japan  450.00  4.52  1/07/2023\n",
      "3    New Zealand    8.10  6.50  1/07/2023\n",
      "4  United States    5.58  8.50  1/07/2023\n"
     ]
    }
   ],
   "source": [
    "import pandas as pd\n",
    "\n",
    "#Read in the big_mac_aud.csv file and store it as big_mac_df. Add the headings 'Country', 'Local', 'AUD' and 'Date'\n",
    "\n",
    "big_mac_df = pd.DataFrame([\n",
    "    ['Australia',7.45,7.45,'1/07/2023'],\n",
    "    ['Britain', 4.19,8.05,'1/07/2023'],\n",
    "    ['Japan', 450,4.52,'1/07/2023'],\n",
    "    ['New Zealand',8.1,6.5,'1/07/2023'],\n",
    "    ['United States',5.58,8.5,'1/07/2023']\n",
    "],\n",
    "columns = ['Country', 'Local', 'AUD', 'Date']\n",
    ")\n",
    "\n",
    "#Output the big_mac_df\n",
    "print(big_mac_df)\n"
   ]
  },
  {
   "attachments": {},
   "cell_type": "markdown",
   "metadata": {},
   "source": [
    "## Add More Rows\n",
    "\n",
    "I want to add France to the above dataframe. The cost is 5.30 EUROs. You'll need to do the conversion for AUD.\n",
    "\n",
    "For information on how to add a row to a dataframe, read through the instructions on [How to Add New Rows to a Pandas Dataframe](https://saturncloud.io/blog/how-to-add-new-rows-to-a-pandas-dataframe/)\n",
    "\n",
    "**NOTE:** Inbetween each test, make sure to *Clear All Outputs* and *Run All* (options at the top of the screen)."
   ]
  },
  {
   "cell_type": "code",
   "execution_count": 5,
   "metadata": {},
   "outputs": [
    {
     "name": "stdout",
     "output_type": "stream",
     "text": [
      "         Country   Local   AUD       Date\n",
      "0      Australia    7.45  7.45  1/07/2023\n",
      "1        Britain    4.19  8.05  1/07/2023\n",
      "2          Japan  450.00  4.52  1/07/2023\n",
      "3    New Zealand    8.10  6.50  1/07/2023\n",
      "4  United States    5.58  8.50  1/07/2023\n",
      "5         France    5.30  8.55  1/07/2023\n"
     ]
    }
   ],
   "source": [
    "#Create a new row as a dictionary called 'new_row'\n",
    "new_row = {'Country': 'France', 'Local' :5.30, 'AUD':8.55, 'Date': '1/07/2023'}\n",
    "\n",
    "#Add the row to big_mac_df with either the append or loc function\n",
    "big_mac_df.loc[len(big_mac_df)] = new_row\n",
    "\n",
    "#Print the dataframe\n",
    "print(big_mac_df)\n"
   ]
  },
  {
   "attachments": {},
   "cell_type": "markdown",
   "metadata": {},
   "source": [
    "## Write to .csv File\n",
    "Now that we've updated the data, let's write a new .csv file reflecting the changes. \n",
    "\n",
    "**NOTE:** It should not create multiple files if you keep running this, but just remember to *Clear All Outputs* inbetween each test to avoid adding France more than once. "
   ]
  },
  {
   "cell_type": "code",
   "execution_count": 6,
   "metadata": {},
   "outputs": [],
   "source": [
    "#Write the big_mac_df big_mac_update.csv in the data folder. Do not include indexes.\n",
    "big_mac_df.to_csv('data/big_mac_update.csv')"
   ]
  }
 ],
 "metadata": {
  "kernelspec": {
   "display_name": "Python 3",
   "language": "python",
   "name": "python3"
  },
  "language_info": {
   "codemirror_mode": {
    "name": "ipython",
    "version": 3
   },
   "file_extension": ".py",
   "mimetype": "text/x-python",
   "name": "python",
   "nbconvert_exporter": "python",
   "pygments_lexer": "ipython3",
   "version": "3.11.0"
  },
  "orig_nbformat": 4
 },
 "nbformat": 4,
 "nbformat_minor": 2
}
